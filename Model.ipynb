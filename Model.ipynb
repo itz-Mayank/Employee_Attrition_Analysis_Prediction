{
 "cells": [
  {
   "cell_type": "code",
   "execution_count": 203,
   "id": "9879ed2b",
   "metadata": {},
   "outputs": [],
   "source": [
    "# Importing Libraries\n",
    "# Import Libraries\n",
    "import pandas as pd\n",
    "import numpy as np\n",
    "from sklearn.model_selection import train_test_split, GridSearchCV, StratifiedKFold\n",
    "from sklearn.preprocessing import StandardScaler\n",
    "from sklearn.linear_model import LogisticRegression\n",
    "from sklearn.tree import DecisionTreeClassifier\n",
    "from sklearn.ensemble import RandomForestClassifier\n",
    "from sklearn.metrics import classification_report, confusion_matrix, roc_auc_score\n",
    "from imblearn.over_sampling import SMOTE\n",
    "import joblib\n",
    "import os"
   ]
  },
  {
   "cell_type": "code",
   "execution_count": 204,
   "id": "c68c3cc6",
   "metadata": {},
   "outputs": [],
   "source": [
    "# Prepare Data\n",
    "BASE_PATH = r'C:\\Users\\Mayank Meghwal\\Desktop\\DS GUVI\\Projects\\Employee\\Models'\n",
    "path = r'C:\\Users\\Mayank Meghwal\\Desktop\\DS GUVI\\Projects\\Employee\\Preprocessed.csv'\n",
    "df = pd.read_csv(path)"
   ]
  },
  {
   "cell_type": "code",
   "execution_count": 205,
   "id": "31bb82d8",
   "metadata": {},
   "outputs": [],
   "source": [
    "# Drop useless columns\n",
    "drop_cols = ['Unnamed: 0', 'EmployeeNumber', 'EmployeeCount', 'Over18', 'StandardHours']\n",
    "df = df.drop(columns=[c for c in drop_cols if c in df.columns], errors='ignore')"
   ]
  },
  {
   "cell_type": "code",
   "execution_count": 206,
   "id": "54ead229",
   "metadata": {},
   "outputs": [],
   "source": [
    "df['Attrition_Yes'] = df['Attrition_Yes'].astype(int)\n",
    "\n",
    "# Features & Target\n",
    "X = df.drop(\"Attrition_Yes\", axis=1)\n",
    "y = df[\"Attrition_Yes\"]"
   ]
  },
  {
   "cell_type": "code",
   "execution_count": 207,
   "id": "196c9862",
   "metadata": {},
   "outputs": [
    {
     "name": "stdout",
     "output_type": "stream",
     "text": [
      "Feature columns saved.\n"
     ]
    }
   ],
   "source": [
    "# Save feature column order (important for Streamlit reindexing)\n",
    "FEATURES_FILE = os.path.join(BASE_PATH, \"features.pkl\")\n",
    "joblib.dump(X.columns.tolist(), FEATURES_FILE)\n",
    "print(\"Feature columns saved.\")"
   ]
  },
  {
   "cell_type": "code",
   "execution_count": 208,
   "id": "f4c96a82",
   "metadata": {},
   "outputs": [],
   "source": [
    "# Handle imbalance with SMOTE\n",
    "sm = SMOTE(random_state=42)\n",
    "X_res, y_res = sm.fit_resample(X, y)"
   ]
  },
  {
   "cell_type": "code",
   "execution_count": 209,
   "id": "847f5a97",
   "metadata": {},
   "outputs": [],
   "source": [
    "# Scale features\n",
    "scaler = StandardScaler()\n",
    "X_res_scaled = scaler.fit_transform(X_res)"
   ]
  },
  {
   "cell_type": "code",
   "execution_count": 210,
   "id": "04929b7c",
   "metadata": {},
   "outputs": [],
   "source": [
    "# Train/Test Split\n",
    "X_train, X_test, y_train, y_test = train_test_split(X_res_scaled, y_res, test_size=0.2, random_state=42, stratify=y_res)"
   ]
  },
  {
   "cell_type": "code",
   "execution_count": 211,
   "id": "ac539782",
   "metadata": {},
   "outputs": [],
   "source": [
    "# Define Models & Hyperparameters\n",
    "models = {\n",
    "    \"LogisticRegression\": (\n",
    "        LogisticRegression(max_iter=1000, class_weight='balanced', random_state=42),\n",
    "        {\"C\": [0.01, 0.1, 1, 10]}\n",
    "    ),\n",
    "\n",
    "    \"DecisionTree\": (\n",
    "        DecisionTreeClassifier(class_weight='balanced', random_state=42),\n",
    "        {\"max_depth\": [5, 10, 15, None],\n",
    "         \"min_samples_split\": [2, 5, 10]}\n",
    "    ),\n",
    "\n",
    "    \"RandomForest\": (\n",
    "        RandomForestClassifier(class_weight='balanced', random_state=42),\n",
    "        {\"n_estimators\": [100, 200, 300],\n",
    "         \"max_depth\": [10, 20, None],\n",
    "         \"min_samples_split\": [2, 5, 10]}\n",
    "    )\n",
    "}\n",
    "\n",
    "results = {}"
   ]
  },
  {
   "cell_type": "code",
   "execution_count": 212,
   "id": "0799a39a",
   "metadata": {},
   "outputs": [
    {
     "name": "stdout",
     "output_type": "stream",
     "text": [
      "\n",
      "Training LogisticRegression...\n",
      "Fitting 5 folds for each of 4 candidates, totalling 20 fits\n",
      "\n",
      "Best Params for LogisticRegression: {'C': 0.1}\n",
      "              precision    recall  f1-score   support\n",
      "\n",
      "           0       0.89      0.91      0.90       247\n",
      "           1       0.91      0.89      0.90       247\n",
      "\n",
      "    accuracy                           0.90       494\n",
      "   macro avg       0.90      0.90      0.90       494\n",
      "weighted avg       0.90      0.90      0.90       494\n",
      "\n",
      "Confusion Matrix:\n",
      " [[225  22]\n",
      " [ 27 220]]\n",
      "ROC-AUC: 0.9008097165991903\n",
      "\n",
      "Training DecisionTree...\n",
      "Fitting 5 folds for each of 12 candidates, totalling 60 fits\n",
      "\n",
      "Best Params for DecisionTree: {'max_depth': 10, 'min_samples_split': 10}\n",
      "              precision    recall  f1-score   support\n",
      "\n",
      "           0       0.84      0.83      0.84       247\n",
      "           1       0.83      0.84      0.84       247\n",
      "\n",
      "    accuracy                           0.84       494\n",
      "   macro avg       0.84      0.84      0.84       494\n",
      "weighted avg       0.84      0.84      0.84       494\n",
      "\n",
      "Confusion Matrix:\n",
      " [[205  42]\n",
      " [ 39 208]]\n",
      "ROC-AUC: 0.8360323886639675\n",
      "\n",
      "Training RandomForest...\n",
      "Fitting 5 folds for each of 27 candidates, totalling 135 fits\n",
      "\n",
      "Best Params for RandomForest: {'max_depth': 20, 'min_samples_split': 2, 'n_estimators': 300}\n",
      "              precision    recall  f1-score   support\n",
      "\n",
      "           0       0.91      0.92      0.92       247\n",
      "           1       0.92      0.91      0.91       247\n",
      "\n",
      "    accuracy                           0.91       494\n",
      "   macro avg       0.92      0.91      0.91       494\n",
      "weighted avg       0.92      0.91      0.91       494\n",
      "\n",
      "Confusion Matrix:\n",
      " [[228  19]\n",
      " [ 23 224]]\n",
      "ROC-AUC: 0.9149797570850203\n"
     ]
    }
   ],
   "source": [
    "# Cross-validation for each model\n",
    "for name, (model, params) in models.items():\n",
    "    print(f\"\\nTraining {name}...\")\n",
    "    grid = GridSearchCV(\n",
    "        model,\n",
    "        params,\n",
    "        cv=StratifiedKFold(5),\n",
    "        scoring='f1',\n",
    "        n_jobs=-1,\n",
    "        verbose=1\n",
    "    )\n",
    "    grid.fit(X_train, y_train)\n",
    "\n",
    "    best_model = grid.best_estimator_\n",
    "    y_pred = best_model.predict(X_test)\n",
    "\n",
    "    print(f\"\\nBest Params for {name}: {grid.best_params_}\")\n",
    "    print(classification_report(y_test, y_pred))\n",
    "    print(\"Confusion Matrix:\\n\", confusion_matrix(y_test, y_pred))\n",
    "    print(\"ROC-AUC:\", roc_auc_score(y_test, y_pred))\n",
    "\n",
    "    results[name] = {\n",
    "        \"model\": best_model,\n",
    "        \"f1\": grid.best_score_,\n",
    "        \"test_accuracy\": best_model.score(X_test, y_test)\n",
    "    }"
   ]
  },
  {
   "cell_type": "code",
   "execution_count": 213,
   "id": "3df50ab0",
   "metadata": {},
   "outputs": [
    {
     "name": "stdout",
     "output_type": "stream",
     "text": [
      "\n",
      "Best Model Selected: RandomForest\n"
     ]
    }
   ],
   "source": [
    "# Select Best Model\n",
    "best_model_name = max(results, key=lambda x: results[x][\"f1\"])\n",
    "best_model = results[best_model_name][\"model\"]\n",
    "\n",
    "print(\"\\nBest Model Selected:\", best_model_name)\n",
    "\n",
    "MODEL_FILE = os.path.join(BASE_PATH, \"Employee.pkl\")\n",
    "SCALER_FILE = os.path.join(BASE_PATH, \"scaler.pkl\")"
   ]
  },
  {
   "cell_type": "code",
   "execution_count": 214,
   "id": "21cf6b54",
   "metadata": {},
   "outputs": [
    {
     "name": "stdout",
     "output_type": "stream",
     "text": [
      "Model saved successfully.\n",
      "Scaler saved successfully.\n"
     ]
    }
   ],
   "source": [
    "# Save model & scaler\n",
    "joblib.dump(best_model, MODEL_FILE)\n",
    "print(\"Model saved successfully.\")\n",
    "\n",
    "joblib.dump(scaler, SCALER_FILE)\n",
    "print(\"Scaler saved successfully.\")"
   ]
  }
 ],
 "metadata": {
  "kernelspec": {
   "display_name": "base",
   "language": "python",
   "name": "python3"
  },
  "language_info": {
   "codemirror_mode": {
    "name": "ipython",
    "version": 3
   },
   "file_extension": ".py",
   "mimetype": "text/x-python",
   "name": "python",
   "nbconvert_exporter": "python",
   "pygments_lexer": "ipython3",
   "version": "3.12.7"
  }
 },
 "nbformat": 4,
 "nbformat_minor": 5
}
